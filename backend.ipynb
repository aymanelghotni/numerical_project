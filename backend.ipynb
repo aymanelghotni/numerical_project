{
 "cells": [
  {
   "cell_type": "code",
   "execution_count": 110,
   "metadata": {},
   "outputs": [],
   "source": [
    "import math\n",
    "def cos(x):\n",
    "    return math.cos(x)\n",
    "def sin(x):\n",
    "    return math.sin(x)\n",
    "def e(x):\n",
    "    return math.exp(x)\n",
    "def tan(x):\n",
    "    return math.tan(x)\n",
    "def toFunction(text,x):\n",
    "    return eval(text,{'__builtins__':{'cos': cos, \"x\":x,\"sin\":sin,\"e\":exp,\"tan\":tan}})\n",
    "\n",
    "if(read_file == 1):\n",
    "    f = open(\"f.txt\", \"r\")\n",
    "    text=(f.readline())\n",
    "else:\n",
    "    val=toFunction(text,x)"
   ]
  },
  {
   "cell_type": "code",
   "execution_count": 109,
   "metadata": {},
   "outputs": [
    {
     "name": "stdout",
     "output_type": "stream",
     "text": [
      "C:\\Users\\Ayman\\Desktop\n"
     ]
    }
   ],
   "source": []
  },
  {
   "cell_type": "code",
   "execution_count": 111,
   "metadata": {},
   "outputs": [
    {
     "name": "stdout",
     "output_type": "stream",
     "text": [
      "2.010007503399555\n"
     ]
    }
   ],
   "source": [
    "print(val)"
   ]
  },
  {
   "cell_type": "code",
   "execution_count": null,
   "metadata": {},
   "outputs": [],
   "source": []
  }
 ],
 "metadata": {
  "kernelspec": {
   "display_name": "Python 3",
   "language": "python",
   "name": "python3"
  },
  "language_info": {
   "codemirror_mode": {
    "name": "ipython",
    "version": 3
   },
   "file_extension": ".py",
   "mimetype": "text/x-python",
   "name": "python",
   "nbconvert_exporter": "python",
   "pygments_lexer": "ipython3",
   "version": "3.8.3"
  }
 },
 "nbformat": 4,
 "nbformat_minor": 4
}
